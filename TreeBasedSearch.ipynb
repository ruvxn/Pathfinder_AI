{
 "cells": [
  {
   "cell_type": "code",
   "execution_count": 2,
   "metadata": {},
   "outputs": [],
   "source": [
    "class MainGraph:\n",
    "    \n",
    "    def __init__(self):\n",
    "\n",
    "        \"\"\"Initialising the graph\"\"\"\n",
    "\n",
    "        self.nodes = {} # This will store nodes in the form {1:(4,1)}, where 1 is the node number and (4,1) represents the coordinates of the nodes location in the graph\n",
    "        self.edges = {} # This will store edges in the form {(2,1):4}, where (2,1) represents the nodes at the both ends of the edge while 4 is the path cost\n",
    "\n",
    "    def add_node(self, node_no, x, y):\n",
    "\n",
    "        \"\"\" This function adds a node to the graph\"\"\"\n",
    "\n",
    "        self.nodes[node_no] = (x,y) \n",
    "\n",
    "    def add_edge(self, node1, node2, path_cost):\n",
    "\n",
    "        \"\"\" This function adds an edge to the graph\"\"\"\n",
    "\n",
    "        self.edges[(node1, node2)] = path_cost\n",
    "        \n",
    "        #ask tutor what will happen in case of a bidirectional edge\n",
    "        #ask tutor what will happen if a node is not present in the graph\n",
    "\n",
    "    def edge_cost(self, node1, node2):\n",
    "\n",
    "\n",
    "        \"\"\" This function returns the cost of the edge between two nodes\"\"\"\n",
    "\n",
    "        return self.edges[(node1, node2)]\n",
    "    \n",
    "    def show_graph(self):\n",
    "\n",
    "        print(\"Nodes: \")\n",
    "\n",
    "        for node in self.nodes:\n",
    "            XYcords = self.nodes[node]\n",
    "            print (f\"{node}: {XYcords}\")\n",
    "        \n",
    "        print(\"\\nEdges: \")\n",
    "\n",
    "        for (node1, node2) in self.edges:\n",
    "            EdgeCost = self.edges[(node1, node2)]\n",
    "            print (f\"({node1}, {node2}): {EdgeCost}\")\n",
    "\n"
   ]
  },
  {
   "cell_type": "code",
   "execution_count": 3,
   "metadata": {},
   "outputs": [
    {
     "name": "stdout",
     "output_type": "stream",
     "text": [
      "Nodes: \n",
      "1: (4, 1)\n",
      "2: (2, 2)\n",
      "3: (5, 3)\n",
      "4: (6, 4)\n",
      "\n",
      "Edges: \n",
      "(1, 2): 1\n",
      "(1, 3): 2\n",
      "(2, 3): 3\n",
      "(3, 4): 4\n"
     ]
    }
   ],
   "source": [
    "#test 1\n",
    "graph = MainGraph()\n",
    "\n",
    "graph.add_node(1, 4, 1)\n",
    "graph.add_node(2, 2, 2)\n",
    "graph.add_node(3, 5, 3)\n",
    "graph.add_node(4, 6, 4)\n",
    "\n",
    "graph.add_edge(1, 2, 1)\n",
    "graph.add_edge(1, 3, 2)\n",
    "graph.add_edge(2, 3, 3)\n",
    "graph.add_edge(3, 4, 4)\n",
    "\n",
    "graph.show_graph()"
   ]
  }
 ],
 "metadata": {
  "kernelspec": {
   "display_name": "TBS",
   "language": "python",
   "name": "mykernel"
  },
  "language_info": {
   "codemirror_mode": {
    "name": "ipython",
    "version": 3
   },
   "file_extension": ".py",
   "mimetype": "text/x-python",
   "name": "python",
   "nbconvert_exporter": "python",
   "pygments_lexer": "ipython3",
   "version": "3.9.6"
  }
 },
 "nbformat": 4,
 "nbformat_minor": 4
}
